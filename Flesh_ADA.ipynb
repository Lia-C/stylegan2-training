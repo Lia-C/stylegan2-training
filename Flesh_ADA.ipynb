{
  "nbformat": 4,
  "nbformat_minor": 0,
  "metadata": {
    "colab": {
      "name": "Flesh-ADA.ipynb",
      "provenance": [],
      "private_outputs": true,
      "collapsed_sections": [],
      "machine_shape": "hm",
      "authorship_tag": "ABX9TyPwgCcg0F2dhCAUQuLwCzdc",
      "include_colab_link": true
    },
    "kernelspec": {
      "name": "python3",
      "display_name": "Python 3"
    },
    "accelerator": "GPU"
  },
  "cells": [
    {
      "cell_type": "markdown",
      "metadata": {
        "id": "view-in-github",
        "colab_type": "text"
      },
      "source": [
        "<a href=\"https://colab.research.google.com/github/dvschultz/stylegan2-training/blob/main/Flesh_ADA.ipynb\" target=\"_parent\"><img src=\"https://colab.research.google.com/assets/colab-badge.svg\" alt=\"Open In Colab\"/></a>"
      ]
    },
    {
      "cell_type": "code",
      "metadata": {
        "id": "1_bdWUwdwRLb"
      },
      "source": [
        "%tensorflow_version 1.x"
      ],
      "execution_count": null,
      "outputs": []
    },
    {
      "cell_type": "code",
      "metadata": {
        "id": "ylLzzza8w1LE"
      },
      "source": [
        "!nvidia-smi"
      ],
      "execution_count": null,
      "outputs": []
    },
    {
      "cell_type": "code",
      "metadata": {
        "id": "JQVHNks3w3AU"
      },
      "source": [
        "!git clone https://github.com/dvschultz/stylegan2-ada\n",
        "%cd stylegan2-ada/"
      ],
      "execution_count": null,
      "outputs": []
    },
    {
      "cell_type": "code",
      "metadata": {
        "id": "b_4VpumawSB6"
      },
      "source": [
        "#\n",
        "#   ~~ Flesh Digressions ~~\n",
        "#         Or, Circular Interpolation of the StyleGAN Synthesis Network's Constant Layer\n",
        "#   ~~~ aydao ~~~~ 2020 ~~~\n",
        "#\n",
        "#   Based on halcy's circular interpolation script https://pastebin.com/RTtV2UY7\n",
        "#\n",
        "import warnings\n",
        "warnings.filterwarnings('ignore', category=FutureWarning)\n",
        "warnings.filterwarnings('ignore', category=DeprecationWarning)\n",
        "import tensorflow as tf\n",
        "tf.compat.v1.logging.set_verbosity(tf.compat.v1.logging.ERROR)\n",
        "import dnnlib\n",
        "import dnnlib.tflib as tflib\n",
        "import math\n",
        "import moviepy.editor\n",
        "from numpy import linalg\n",
        "import numpy as np\n",
        "import pickle\n",
        "import argparse\n",
        "from datetime import datetime\n",
        "\n",
        "def circular_interpolation(radius, latents_persistent, latents_interpolate):\n",
        "\n",
        "    latents_a, latents_b, latents_c = latents_persistent\n",
        "\n",
        "    latents_axis_x = (latents_a - latents_b).flatten() / linalg.norm(latents_a - latents_b)\n",
        "    latents_axis_y = (latents_a - latents_c).flatten() / linalg.norm(latents_a - latents_c)\n",
        "\n",
        "    latents_x = math.sin(math.pi * 2.0 * latents_interpolate) * radius\n",
        "    latents_y = math.cos(math.pi * 2.0 * latents_interpolate) * radius\n",
        "\n",
        "    latents = latents_a + latents_x * latents_axis_x + latents_y * latents_axis_y\n",
        "    return latents\n",
        "\n",
        "def generate_from_generator_adaptive(psi,radius_large,radius_small,step1,step2,video_length, Gs):\n",
        "    # psi = args.psi # 0.7\n",
        "    # radius_large = args.radius_large # 600.0\n",
        "    # radius_small = args.radius_small # 40.0\n",
        "    current_position_increment = step1 # 0.005\n",
        "    current_position_style_increment = step2 # 0.0025\n",
        "    # video_length = args.video_length # 1.0\n",
        "    output_format = dict(func=tflib.convert_images_to_uint8, nchw_to_nhwc=True)\n",
        "    \n",
        "    # latents for the circular interpolation in latent space\n",
        "    rnd = np.random\n",
        "    latents_a = rnd.randn(1, Gs.input_shape[1])\n",
        "    latents_b = rnd.randn(1, Gs.input_shape[1])\n",
        "    latents_c = rnd.randn(1, Gs.input_shape[1])\n",
        "    latents_persistent_small = (latents_a, latents_b, latents_c)\n",
        "\n",
        "    # latents for the circular interpolation of the unrolled constant layer\n",
        "    latent_size = 512 # default StyleGAN latent size\n",
        "    constant_layer_size = 4 # default StyleGAN constant layer size is 4x4\n",
        "    constant_layer_total = latent_size * constant_layer_size * constant_layer_size # 8192\n",
        "    latents_aa = rnd.randn(1, constant_layer_total)\n",
        "    latents_bb = rnd.randn(1, constant_layer_total)\n",
        "    latents_cc = rnd.randn(1, constant_layer_total)\n",
        "    latents_persistent_large = (latents_aa, latents_bb, latents_cc)\n",
        "\n",
        "    # initialize the circular interpolation\n",
        "    current_position = 0.0\n",
        "    current_position_style = 0.0\n",
        "    current_latent = circular_interpolation(radius_small, latents_persistent_small, current_position)\n",
        "    current_image = Gs.run(current_latent, None, truncation_psi=psi, randomize_noise=False, output_transform=output_format)[0]\n",
        "    output_frames = []\n",
        "\n",
        "    # Create the frames while interpolating along the circle, in both the latent space and the constant layer\n",
        "    while(current_position_style < video_length):\n",
        "\n",
        "        current_position += current_position_increment\n",
        "        current_position_style += current_position_style_increment\n",
        "\n",
        "        # interpolate the weights of the constant layer\n",
        "        w = [v for v in tf.get_collection(tf.GraphKeys.GLOBAL_VARIABLES) if v.name == 'G_synthesis_1/4x4/Const/const:0'][0]\n",
        "        v1 = tf.identity(tflib.run(['G_synthesis_1/4x4/Const/const:0'])[0])\n",
        "        v2 = tf.reshape(v1, [1, constant_layer_total])\n",
        "        v2 += circular_interpolation(radius_large, latents_persistent_large, current_position + np.pi)\n",
        "        v2 = tf.reshape(v2, [1, latent_size, constant_layer_size, constant_layer_size])\n",
        "        tf.get_default_session().run(tf.assign(w, v2))\n",
        "\n",
        "        # interpolate along the latent space\n",
        "        current_latent = circular_interpolation(radius_small, latents_persistent_small, current_position_style)\n",
        "        current_image = images = Gs.run(current_latent, None, truncation_psi=psi, randomize_noise=False, output_transform=output_format)[0]\n",
        "        output_frames.append(current_image)\n",
        "\n",
        "        tf.get_default_session().run(tf.assign(w, v1))\n",
        "\n",
        "        # stops at 1.0 (or whatever value to which video_length is set)\n",
        "        print('Stopping at',video_length,'currently at',current_position_style, flush=True) \n",
        "\n",
        "    return output_frames\n",
        "\n",
        "def fleshy(pkl,psi,radius_large,radius_small,step1,step2,video_length=1.0):\n",
        "\n",
        "    tflib.init_tf()\n",
        "    print('Loading networks from \"%s\"...' % pkl)\n",
        "    with dnnlib.util.open_url(pkl) as fp:\n",
        "        _G, _D, Gs = pickle.load(fp)\n",
        "\n",
        "    frames = generate_from_generator_adaptive(psi,radius_large,radius_small,step1,step2,video_length, Gs)\n",
        "    frames = moviepy.editor.ImageSequenceClip(frames, fps=30)\n",
        "\n",
        "    # Generate video at the current date and timestamp\n",
        "    timestamp = datetime.now().strftime(\"%d-%m-%Y-%I-%M-%S-%p\")\n",
        "    mp4_file = './circular-'+timestamp+'.mp4'\n",
        "    mp4_codec = 'libx264'\n",
        "    mp4_bitrate = '3M'\n",
        "    mp4_fps = 30 # 20\n",
        "\n",
        "    frames.write_videofile(mp4_file, fps=mp4_fps, codec=mp4_codec, bitrate=mp4_bitrate)\n"
      ],
      "execution_count": null,
      "outputs": []
    },
    {
      "cell_type": "code",
      "metadata": {
        "id": "KA2_8HAIwUeL"
      },
      "source": [
        "pkl = \"/content/cat.pkl\"\n",
        "truncation = 0.7\n",
        "radius_large = 400.0 # The radius for the constant layer interpolation\n",
        "radius_small = 100.0 # The radius for the latent space interpolation\n",
        "step1 = 0.005 # The radius for the constant layer interpolation\n",
        "step2 = 0.0025 # The value of the step/increment for the latent space interpolation\n",
        "\n",
        "#you probably shouldn't change this one\n",
        "video_length = 1.0 # The length of the video in terms of circular interpolation (recommended to keep at 1.0)\n",
        "\n",
        "fleshy(pkl,truncation,radius_large,radius_small,step1,step2,video_length)"
      ],
      "execution_count": null,
      "outputs": []
    },
    {
      "cell_type": "code",
      "metadata": {
        "id": "PZtIvTn66nd9"
      },
      "source": [
        ""
      ],
      "execution_count": null,
      "outputs": []
    }
  ]
}