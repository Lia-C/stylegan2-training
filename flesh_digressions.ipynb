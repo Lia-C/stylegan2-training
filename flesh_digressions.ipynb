{
  "nbformat": 4,
  "nbformat_minor": 0,
  "metadata": {
    "colab": {
      "name": "flesh-digressions.ipynb",
      "provenance": [],
      "collapsed_sections": [],
      "toc_visible": true,
      "machine_shape": "hm",
      "authorship_tag": "ABX9TyNW8EG6xXsobMwC5rUV9ANK",
      "include_colab_link": true
    },
    "kernelspec": {
      "name": "python3",
      "display_name": "Python 3"
    },
    "accelerator": "GPU"
  },
  "cells": [
    {
      "cell_type": "markdown",
      "metadata": {
        "id": "view-in-github",
        "colab_type": "text"
      },
      "source": [
        "<a href=\"https://colab.research.google.com/github/dvschultz/stylegan2-training/blob/main/flesh_digressions.ipynb\" target=\"_parent\"><img src=\"https://colab.research.google.com/assets/colab-badge.svg\" alt=\"Open In Colab\"/></a>"
      ]
    },
    {
      "cell_type": "markdown",
      "metadata": {
        "id": "AziEPhUfHnfP"
      },
      "source": [
        "# Flesh Digressions\n",
        "### Producing Videos from circular loops of the constant and latent layers in StyleGAN2 \n",
        "\n",
        "Besides having the most metal name for a script, this is also a really funway to generate looping videos of a StyleGAN2 model. It creates a loop from the 4x4 constant layer and a loop of the latent space layer (z I assume?) to generate a different feeling looping video.\n",
        "\n",
        "Credit to [@aydaogman](https://twitter.com/AydaoGMan) for making this script."
      ]
    },
    {
      "cell_type": "code",
      "metadata": {
        "id": "gORlgsBhsgjm"
      },
      "source": [
        "%tensorflow_version 1.x"
      ],
      "execution_count": null,
      "outputs": []
    },
    {
      "cell_type": "code",
      "metadata": {
        "id": "FXxfhVcFrfJk"
      },
      "source": [
        "!git clone https://github.com/dvschultz/stylegan2-ada"
      ],
      "execution_count": null,
      "outputs": []
    },
    {
      "cell_type": "markdown",
      "metadata": {
        "id": "EMPwkGDCG9sV"
      },
      "source": [
        "Download a pkl file."
      ]
    },
    {
      "cell_type": "code",
      "metadata": {
        "id": "nAp0Tt7yr6bE"
      },
      "source": [
        "!gdown --id [file_id]"
      ],
      "execution_count": null,
      "outputs": []
    },
    {
      "cell_type": "code",
      "metadata": {
        "id": "_kpvc-pxsOKQ"
      },
      "source": [
        "%cd stylegan2-ada/"
      ],
      "execution_count": null,
      "outputs": []
    },
    {
      "cell_type": "markdown",
      "metadata": {
        "id": "cNVmp4D6HQQd"
      },
      "source": [
        "## Generate Video\n",
        "\n",
        "#### Options\n",
        "*   `--pkl`: point this to your pkl model file\n",
        "*   `--psi`: truncation value\n",
        "*   `--radius_large`: how large of a loop the constant layer should be \n",
        "*   `--radius_small`: how large of a loop the latent space layer should be \n",
        "*   `--step1`: increment step for the constant layer \n",
        "*   `--step2`: increment step for the latent space layer \n",
        "*   `--video_length`: length of video in circular interpolation (ex. default is 1.0, step2 is 0.0025, so video length is 400 frames)\n",
        "\n",
        "I recommend starting with all the default values and playing with them from there."
      ]
    },
    {
      "cell_type": "code",
      "metadata": {
        "id": "y85_aIs9HHfE"
      },
      "source": [
        "pkl = \"/content/crystal.pkl\""
      ],
      "execution_count": null,
      "outputs": []
    },
    {
      "cell_type": "code",
      "metadata": {
        "id": "Nt9IAnWbsWj_"
      },
      "source": [
        "!python aydao_flesh_digressions.py --pkl $pkl --psi=0.6 --radius_small=10.0 --radius_large=800.00"
      ],
      "execution_count": null,
      "outputs": []
    }
  ]
}